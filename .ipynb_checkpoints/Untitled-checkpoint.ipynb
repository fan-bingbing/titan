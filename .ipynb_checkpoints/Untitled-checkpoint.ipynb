{
 "cells": [
  {
   "cell_type": "code",
   "execution_count": 21,
   "metadata": {},
   "outputs": [
    {
     "name": "stdout",
     "output_type": "stream",
     "text": [
      "('TCPIP0::10.0.22.24::inst0::INSTR', 'TCPIP0::10.0.22.100::inst0::INSTR', 'TCPIP0::10.0.22.28::inst0::INSTR', 'ASRL7::INSTR')\n",
      "['equip0', 'equip1', 'equip2', 'equip3']\n"
     ]
    }
   ],
   "source": [
    "import pyvisa\n",
    "rm = pyvisa.ResourceManager()\n",
    "print(rm.list_resources())\n",
    "key = []\n",
    "for var in range(0, len(rm.list_resources())): \n",
    "    key.append('equip'+ str(var))\n",
    "print(key)\n",
    "dict_using_comp = {key:value for (key, value) in zip(key, rm.list_resources())} \n",
    "print(dict_using_comp)\n"
   ]
  }
 ],
 "metadata": {
  "kernelspec": {
   "display_name": "Python 3",
   "language": "python",
   "name": "python3"
  },
  "language_info": {
   "codemirror_mode": {
    "name": "ipython",
    "version": 3
   },
   "file_extension": ".py",
   "mimetype": "text/x-python",
   "name": "python",
   "nbconvert_exporter": "python",
   "pygments_lexer": "ipython3",
   "version": "3.7.3"
  }
 },
 "nbformat": 4,
 "nbformat_minor": 2
}
