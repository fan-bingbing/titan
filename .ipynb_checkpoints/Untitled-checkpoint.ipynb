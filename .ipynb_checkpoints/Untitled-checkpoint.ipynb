{
 "cells": [
  {
   "cell_type": "code",
   "execution_count": 1,
   "metadata": {
    "scrolled": false
   },
   "outputs": [
    {
     "name": "stdout",
     "output_type": "stream",
     "text": [
      "('TCPIP0::10.0.22.30::inst0::INSTR', 'TCPIP0::10.0.22.90::inst0::INSTR', 'TCPIP0::10.0.22.30::hislip0::INSTR', 'ASRL7::INSTR')\n"
     ]
    }
   ],
   "source": [
    "import pyvisa\n",
    "rm = pyvisa.ResourceManager()\n",
    "print(rm.list_resources())\n",
    "\n"
   ]
  },
  {
   "cell_type": "code",
   "execution_count": 4,
   "metadata": {},
   "outputs": [],
   "source": [
    "from openpyxl import Workbook\n",
    "from openpyxl import load_workbook\n",
    "class Excel(object):\n",
    "    def __init__(self, file_name):\n",
    "        self.file = load_workbook(filename = file_name) # load Test_Result.xlsx\n",
    "\n",
    "    def get_sheet(self, sheet_name):\n",
    "        self.sheet = self.file[sheet_name]\n",
    "\n",
    "    def write(self, row, column, value):\n",
    "        self.sheet.cell(row = row, column = column, value = value)\n",
    "\n",
    "    def clear(self, start_cell, end_cell):\n",
    "        for row in self.sheet[start_cell +':'+ end_cell]:# clear certain block of cells in selected sheet\n",
    "            for cell in row:\n",
    "                cell.value = None\n",
    "                \n",
    "    def save(self, file_name):\n",
    "        self.file.save(file_name)\n",
    "        \n",
    "try:\n",
    "    result = Excel(\"Test_Result.xlsx\")\n",
    "except BaseException:\n",
    "    print(\"Specified Excel file does not exsit.\")\n",
    "    pass\n",
    "        \n",
    "        "
   ]
  },
  {
   "cell_type": "code",
   "execution_count": 11,
   "metadata": {},
   "outputs": [
    {
     "name": "stdout",
     "output_type": "stream",
     "text": [
      "164.0750000\n"
     ]
    }
   ],
   "source": [
    "from decimal import *\n",
    "getcontext().prec = 10\n",
    "\n",
    "def Set_Freq(freq):\n",
    "        a = ((hex(int((Decimal(freq)*Decimal(1e6))/(Decimal(12.5*1e3))))[2]+hex(int((Decimal(freq)*Decimal(1e6))/Decimal((12.5*1e3))))[3]))# calculate first HEX of input frequency\n",
    "        b = ((hex(int((Decimal(freq)*Decimal(1e6))/(Decimal(12.5*1e3))))[4]+hex(int((Decimal(freq)*Decimal(1e6))/Decimal((12.5*1e3))))[5]))# calculate second HEX of input frequency\n",
    "        payload02 = int(a,16) # assign first DEC (transferred from HEX) to the third number of paylaod0\n",
    "        payload03 = int(b,16) # assign second DEC (transferred from HEX) to the fourth number of paylaod0\n",
    "        \n",
    "        return [payload02, payload03]"
   ]
  },
  {
   "cell_type": "code",
   "execution_count": null,
   "metadata": {},
   "outputs": [],
   "source": []
  }
 ],
 "metadata": {
  "kernelspec": {
   "display_name": "Python 3",
   "language": "python",
   "name": "python3"
  },
  "language_info": {
   "codemirror_mode": {
    "name": "ipython",
    "version": 3
   },
   "file_extension": ".py",
   "mimetype": "text/x-python",
   "name": "python",
   "nbconvert_exporter": "python",
   "pygments_lexer": "ipython3",
   "version": "3.7.3"
  }
 },
 "nbformat": 4,
 "nbformat_minor": 2
}
