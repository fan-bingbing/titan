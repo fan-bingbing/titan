{
 "cells": [
  {
   "cell_type": "code",
   "execution_count": 1,
   "metadata": {},
   "outputs": [
    {
     "name": "stdout",
     "output_type": "stream",
     "text": [
      "SUCCESS\n"
     ]
    }
   ],
   "source": [
    "from openpyxl import Workbook\n",
    "from openpyxl import load_workbook\n",
    "class Excel(object):\n",
    "    def __init__(self, file_name):\n",
    "        self.file = load_workbook(filename = file_name) # load Test_Result.xlsx\n",
    "\n",
    "    def get_sheet(self, sheet_name):\n",
    "        self.sheet = self.file[sheet_name]\n",
    "\n",
    "    def write(self, row, column, value):\n",
    "        self.sheet.cell(row = row, column = column, value = value)\n",
    "\n",
    "    def clear(self, start_cell, end_cell):\n",
    "        for row in self.sheet[start_cell +':'+ end_cell]:# clear certain block of cells in selected sheet\n",
    "            for cell in row:\n",
    "                cell.value = None\n",
    "                \n",
    "    def save(self, file_name):\n",
    "        self.file.save(file_name)\n",
    "        \n",
    "try:\n",
    "    result = Excel(\"Test_Result.xlsx\")\n",
    "    print(\"SUCCESS\")\n",
    "except BaseException:\n",
    "    print(\"Specified Excel file does not exsit.\")\n",
    "    pass\n",
    "        \n",
    "        "
   ]
  }
 ],
 "metadata": {
  "kernelspec": {
   "display_name": "Python 3",
   "language": "python",
   "name": "python3"
  },
  "language_info": {
   "codemirror_mode": {
    "name": "ipython",
    "version": 3
   },
   "file_extension": ".py",
   "mimetype": "text/x-python",
   "name": "python",
   "nbconvert_exporter": "python",
   "pygments_lexer": "ipython3",
   "version": "3.7.3"
  }
 },
 "nbformat": 4,
 "nbformat_minor": 2
}
