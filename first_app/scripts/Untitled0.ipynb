{
 "cells": [
  {
   "cell_type": "code",
   "execution_count": 29,
   "metadata": {
    "scrolled": false
   },
   "outputs": [
    {
     "name": "stdout",
     "output_type": "stream",
     "text": [
      "[-4.3533325 -4.899597  -5.2944946 ... -2.8433228 -3.5006714 -4.050598 ]\n",
      "26.68500091481206\n"
     ]
    }
   ],
   "source": [
    "import sounddevice as sd\n",
    "import numpy as np\n",
    "import matplotlib.pyplot as plt\n",
    "from scipy.fftpack import fft\n",
    "import sounddevice as sd\n",
    "import numpy as np\n",
    "import matplotlib.pyplot as plt\n",
    "from scipy.fftpack import fft\n",
    "import sinad\n",
    "\n",
    "\n",
    "gain = 10\n",
    "duration = 0.1 # sample record duration\n",
    "sample_rate = 44100\n",
    "device = ('Microphone (Sound Blaster Play!, MME',\n",
    "                       'Speakers (Sound Blaster Play! 3, MME')\n",
    "sd.query_devices(device[0])\n",
    "sd.default.device = device\n",
    "sd.default.channels = 1\n",
    "sd.default.samplerate = sample_rate\n",
    "\n",
    "x1 = sd.rec(int(duration*sample_rate), dtype='float32', blocking=True) # record 0.1 seconds input signal from microphone\n",
    "   \n",
    "x2 = gain*x1[int(duration*sample_rate/1000):int(duration*sample_rate)] # take effective samples\n",
    "   \n",
    "x3 = x2[0:int(80*(sample_rate/1000))] # take first 80ms duration samples\n",
    "   \n",
    "x4 = x3.flatten()# transfer 2D array to 1D, ready for fft operation, fft function can only take 1D array as input\n",
    "\n",
    "\n",
    "print(x4)\n",
    "\n",
    "print(sinad.SINAD(x4, sample_rate))\n",
    "\n",
    "\n",
    "\n",
    "\n"
   ]
  },
  {
   "cell_type": "code",
   "execution_count": null,
   "metadata": {},
   "outputs": [],
   "source": [
    "\n"
   ]
  }
 ],
 "metadata": {
  "kernelspec": {
   "display_name": "Python 3",
   "language": "python",
   "name": "python3"
  },
  "language_info": {
   "codemirror_mode": {
    "name": "ipython",
    "version": 3
   },
   "file_extension": ".py",
   "mimetype": "text/x-python",
   "name": "python",
   "nbconvert_exporter": "python",
   "pygments_lexer": "ipython3",
   "version": "3.7.3"
  }
 },
 "nbformat": 4,
 "nbformat_minor": 2
}
